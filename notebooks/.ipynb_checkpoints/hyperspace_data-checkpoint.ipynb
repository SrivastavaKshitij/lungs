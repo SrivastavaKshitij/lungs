{
 "cells": [
  {
   "cell_type": "markdown",
   "metadata": {},
   "source": [
    "### Sampling the Dataset for HyperSpace"
   ]
  },
  {
   "cell_type": "code",
   "execution_count": 49,
   "metadata": {},
   "outputs": [],
   "source": [
    "import os\n",
    "import numpy as np\n",
    "import pandas as pd\n",
    "from sklearn.model_selection import train_test_split\n",
    "\n",
    "\n",
    "DATA = '/Users/youngtodd/lungs/lungs/data/'\n",
    "TRAIN_LABELS = '/Users/youngtodd/lungs/lungs/data/chestX-ray14/labels/train_list.txt'\n",
    "VAL_LABELS = '/Users/youngtodd/lungs/lungs/data/chestX-ray14/labels/val_list.txt'"
   ]
  },
  {
   "cell_type": "code",
   "execution_count": 50,
   "metadata": {
    "collapsed": true
   },
   "outputs": [],
   "source": [
    "def read_data(data_dir, image_list_file):\n",
    "    \"\"\"ChestXrayDataSet read in function\"\"\"\n",
    "    image_names = []\n",
    "    labels = []\n",
    "    with open(image_list_file, \"r\") as f:\n",
    "        for line in f:\n",
    "            items = line.split()\n",
    "            image_name= items[0]\n",
    "            label = items[1:]\n",
    "            label = [int(i) for i in label]\n",
    "            #image_name = os.path.join(data_dir, image_name)\n",
    "            image_names.append(image_name)\n",
    "            labels.append(label)\n",
    "            \n",
    "    return image_names, labels"
   ]
  },
  {
   "cell_type": "code",
   "execution_count": 51,
   "metadata": {
    "collapsed": true
   },
   "outputs": [],
   "source": [
    "x_train, y_train = read_data(DATA, TRAIN_LABELS)\n",
    "x_val, y_val = read_data(DATA, VAL_LABELS)"
   ]
  },
  {
   "cell_type": "code",
   "execution_count": 52,
   "metadata": {},
   "outputs": [
    {
     "name": "stdout",
     "output_type": "stream",
     "text": [
      "There are 78468 samples in the training set with 78468 labels\n",
      "\n",
      "Zeroth entry:\n",
      "00001522_000.png\n",
      "[0, 0, 0, 0, 0, 0, 0, 0, 0, 0, 0, 0, 0, 0]\n",
      "\n",
      "There are 11219 samples in the validation set with 11219 labels\n",
      "\n",
      "Zeroth entry:\n",
      "00028178_000.png\n",
      "[0, 0, 0, 0, 0, 0, 0, 0, 0, 0, 0, 0, 0, 0]\n"
     ]
    }
   ],
   "source": [
    "print(f'There are {len(x_train)} samples in the training set with {len(y_train)} labels\\n')\n",
    "\n",
    "print('Zeroth entry:')\n",
    "print(x_train[0])\n",
    "print(y_train[0])\n",
    "\n",
    "print(f'\\nThere are {len(x_val)} samples in the validation set with {len(y_val)} labels\\n')\n",
    "\n",
    "\n",
    "print('Zeroth entry:')\n",
    "print(x_val[0])\n",
    "print(y_val[0])"
   ]
  },
  {
   "cell_type": "code",
   "execution_count": 53,
   "metadata": {},
   "outputs": [
    {
     "data": {
      "text/plain": [
       "78468"
      ]
     },
     "execution_count": 53,
     "metadata": {},
     "output_type": "execute_result"
    }
   ],
   "source": [
    "# training = {'data': x_train, 'labels': y_train}\n",
    "# valid = {'data': x_val, 'labels': y_val}\n",
    "\n",
    "# training = pd.DataFrame(training)\n",
    "# valid = pd.DataFrame(valid)\n",
    "\n",
    "# len(training)"
   ]
  },
  {
   "cell_type": "code",
   "execution_count": 54,
   "metadata": {},
   "outputs": [],
   "source": [
    "X_train, X_trainwitheld, y_train, y_trainwitheld = train_test_split(x_train, y_train, test_size=0.50, random_state=42)\n",
    "X_val, X_valwitheld, y_val, y_valwitheld = train_test_split(x_val, y_val, test_size=0.33, random_state=42)"
   ]
  },
  {
   "cell_type": "code",
   "execution_count": 55,
   "metadata": {},
   "outputs": [
    {
     "name": "stdout",
     "output_type": "stream",
     "text": [
      "HyperSpace training set has 39234 samples\n",
      "HyperSpace validation set has 7516 samples\n"
     ]
    }
   ],
   "source": [
    "print(f'HyperSpace training set has {len(X_train)} samples')\n",
    "print(f'HyperSpace validation set has {len(X_val)} samples')"
   ]
  },
  {
   "cell_type": "code",
   "execution_count": 74,
   "metadata": {
    "collapsed": true
   },
   "outputs": [],
   "source": [
    "def prepare_txt(data, labels):\n",
    "    \"\"\"Formatting for data.txt files.\"\"\"\n",
    "    \n",
    "    # Make each element in labels a string\n",
    "    y_strings = []\n",
    "    for i in y_test:\n",
    "        y_strings.append(' '.join(str(x) for x in i))\n",
    "    \n",
    "    # combine data name and labels strings\n",
    "    text_list = [m + ' ' + n for m,n in zip(data, y_strings)]\n",
    "    \n",
    "    return text_list"
   ]
  },
  {
   "cell_type": "code",
   "execution_count": 76,
   "metadata": {
    "collapsed": true
   },
   "outputs": [],
   "source": [
    "train_txt = prepare_txt(X_train, y_train)\n",
    "val_txt = prepare_txt(X_val, y_val)\n",
    "\n",
    "train_witheld = prepare_txt(X_trainwitheld, y_trainwitheld)\n",
    "val_witheld = prepare_txt(X_valwitheld, y_valwitheld)"
   ]
  },
  {
   "cell_type": "code",
   "execution_count": 82,
   "metadata": {
    "collapsed": true
   },
   "outputs": [],
   "source": [
    "def write_files(filename, text_list):\n",
    "    outF = open(filename, \"w\")\n",
    "    for line in text_list:\n",
    "        # write line to output file\n",
    "        outF.write(line)\n",
    "        outF.write(\"\\n\")\n",
    "    outF.close()"
   ]
  },
  {
   "cell_type": "code",
   "execution_count": 84,
   "metadata": {
    "collapsed": true
   },
   "outputs": [],
   "source": [
    "write_files('train_list.txt', train_txt)\n",
    "write_files('val_list.txt', val_txt)\n",
    "\n",
    "write_files('train_witheld.txt', train_witheld)\n",
    "write_files('val_witheld.txt', val_witheld)"
   ]
  },
  {
   "cell_type": "code",
   "execution_count": null,
   "metadata": {
    "collapsed": true
   },
   "outputs": [],
   "source": []
  }
 ],
 "metadata": {
  "kernelspec": {
   "display_name": "Python 3",
   "language": "python",
   "name": "python3"
  },
  "language_info": {
   "codemirror_mode": {
    "name": "ipython",
    "version": 3
   },
   "file_extension": ".py",
   "mimetype": "text/x-python",
   "name": "python",
   "nbconvert_exporter": "python",
   "pygments_lexer": "ipython3",
   "version": "3.6.3"
  }
 },
 "nbformat": 4,
 "nbformat_minor": 2
}
